{
  "nbformat": 4,
  "nbformat_minor": 0,
  "metadata": {
    "colab": {
      "provenance": []
    },
    "kernelspec": {
      "name": "python3",
      "display_name": "Python 3"
    },
    "language_info": {
      "name": "python"
    }
  },
  "cells": [
    {
      "cell_type": "code",
      "source": [
        "import pandas as pd\n",
        "import numpy as np\n",
        "df=pd.read_csv(\"Municipios_coordenadas.csv\")"
      ],
      "metadata": {
        "id": "TilEd6ERo3NT"
      },
      "execution_count": null,
      "outputs": []
    },
    {
      "cell_type": "code",
      "source": [
        "df"
      ],
      "metadata": {
        "colab": {
          "base_uri": "https://localhost:8080/",
          "height": 363
        },
        "id": "Of646BUZYCK8",
        "outputId": "2e75b168-87c5-40b9-9e80-130c69bc84b1"
      },
      "execution_count": null,
      "outputs": [
        {
          "output_type": "execute_result",
          "data": {
            "text/plain": [
              "              Municipio  Longitud  Latitud\n",
              "0                 Tepic -104.8938  21.5079\n",
              "1     Laguna de Nayarit -105.2289  21.4179\n",
              "2              Sayulita -105.4417  20.8681\n",
              "3              San Blas -105.2769  21.5453\n",
              "4            Compostela -105.1922  21.2347\n",
              "5         Punta de Mita -105.4633  20.7725\n",
              "6            Mexcatitán -105.2439  22.0431\n",
              "7                  Jala -104.7972  21.0164\n",
              "8             La Tovara -105.2814  21.5364\n",
              "9  Rincón de Guayabitos -105.2778  21.0294"
            ],
            "text/html": [
              "\n",
              "  <div id=\"df-58466d06-95ad-4a63-a463-b6a1cd91b860\">\n",
              "    <div class=\"colab-df-container\">\n",
              "      <div>\n",
              "<style scoped>\n",
              "    .dataframe tbody tr th:only-of-type {\n",
              "        vertical-align: middle;\n",
              "    }\n",
              "\n",
              "    .dataframe tbody tr th {\n",
              "        vertical-align: top;\n",
              "    }\n",
              "\n",
              "    .dataframe thead th {\n",
              "        text-align: right;\n",
              "    }\n",
              "</style>\n",
              "<table border=\"1\" class=\"dataframe\">\n",
              "  <thead>\n",
              "    <tr style=\"text-align: right;\">\n",
              "      <th></th>\n",
              "      <th>Municipio</th>\n",
              "      <th>Longitud</th>\n",
              "      <th>Latitud</th>\n",
              "    </tr>\n",
              "  </thead>\n",
              "  <tbody>\n",
              "    <tr>\n",
              "      <th>0</th>\n",
              "      <td>Tepic</td>\n",
              "      <td>-104.8938</td>\n",
              "      <td>21.5079</td>\n",
              "    </tr>\n",
              "    <tr>\n",
              "      <th>1</th>\n",
              "      <td>Laguna de Nayarit</td>\n",
              "      <td>-105.2289</td>\n",
              "      <td>21.4179</td>\n",
              "    </tr>\n",
              "    <tr>\n",
              "      <th>2</th>\n",
              "      <td>Sayulita</td>\n",
              "      <td>-105.4417</td>\n",
              "      <td>20.8681</td>\n",
              "    </tr>\n",
              "    <tr>\n",
              "      <th>3</th>\n",
              "      <td>San Blas</td>\n",
              "      <td>-105.2769</td>\n",
              "      <td>21.5453</td>\n",
              "    </tr>\n",
              "    <tr>\n",
              "      <th>4</th>\n",
              "      <td>Compostela</td>\n",
              "      <td>-105.1922</td>\n",
              "      <td>21.2347</td>\n",
              "    </tr>\n",
              "    <tr>\n",
              "      <th>5</th>\n",
              "      <td>Punta de Mita</td>\n",
              "      <td>-105.4633</td>\n",
              "      <td>20.7725</td>\n",
              "    </tr>\n",
              "    <tr>\n",
              "      <th>6</th>\n",
              "      <td>Mexcatitán</td>\n",
              "      <td>-105.2439</td>\n",
              "      <td>22.0431</td>\n",
              "    </tr>\n",
              "    <tr>\n",
              "      <th>7</th>\n",
              "      <td>Jala</td>\n",
              "      <td>-104.7972</td>\n",
              "      <td>21.0164</td>\n",
              "    </tr>\n",
              "    <tr>\n",
              "      <th>8</th>\n",
              "      <td>La Tovara</td>\n",
              "      <td>-105.2814</td>\n",
              "      <td>21.5364</td>\n",
              "    </tr>\n",
              "    <tr>\n",
              "      <th>9</th>\n",
              "      <td>Rincón de Guayabitos</td>\n",
              "      <td>-105.2778</td>\n",
              "      <td>21.0294</td>\n",
              "    </tr>\n",
              "  </tbody>\n",
              "</table>\n",
              "</div>\n",
              "      <button class=\"colab-df-convert\" onclick=\"convertToInteractive('df-58466d06-95ad-4a63-a463-b6a1cd91b860')\"\n",
              "              title=\"Convert this dataframe to an interactive table.\"\n",
              "              style=\"display:none;\">\n",
              "        \n",
              "  <svg xmlns=\"http://www.w3.org/2000/svg\" height=\"24px\"viewBox=\"0 0 24 24\"\n",
              "       width=\"24px\">\n",
              "    <path d=\"M0 0h24v24H0V0z\" fill=\"none\"/>\n",
              "    <path d=\"M18.56 5.44l.94 2.06.94-2.06 2.06-.94-2.06-.94-.94-2.06-.94 2.06-2.06.94zm-11 1L8.5 8.5l.94-2.06 2.06-.94-2.06-.94L8.5 2.5l-.94 2.06-2.06.94zm10 10l.94 2.06.94-2.06 2.06-.94-2.06-.94-.94-2.06-.94 2.06-2.06.94z\"/><path d=\"M17.41 7.96l-1.37-1.37c-.4-.4-.92-.59-1.43-.59-.52 0-1.04.2-1.43.59L10.3 9.45l-7.72 7.72c-.78.78-.78 2.05 0 2.83L4 21.41c.39.39.9.59 1.41.59.51 0 1.02-.2 1.41-.59l7.78-7.78 2.81-2.81c.8-.78.8-2.07 0-2.86zM5.41 20L4 18.59l7.72-7.72 1.47 1.35L5.41 20z\"/>\n",
              "  </svg>\n",
              "      </button>\n",
              "      \n",
              "  <style>\n",
              "    .colab-df-container {\n",
              "      display:flex;\n",
              "      flex-wrap:wrap;\n",
              "      gap: 12px;\n",
              "    }\n",
              "\n",
              "    .colab-df-convert {\n",
              "      background-color: #E8F0FE;\n",
              "      border: none;\n",
              "      border-radius: 50%;\n",
              "      cursor: pointer;\n",
              "      display: none;\n",
              "      fill: #1967D2;\n",
              "      height: 32px;\n",
              "      padding: 0 0 0 0;\n",
              "      width: 32px;\n",
              "    }\n",
              "\n",
              "    .colab-df-convert:hover {\n",
              "      background-color: #E2EBFA;\n",
              "      box-shadow: 0px 1px 2px rgba(60, 64, 67, 0.3), 0px 1px 3px 1px rgba(60, 64, 67, 0.15);\n",
              "      fill: #174EA6;\n",
              "    }\n",
              "\n",
              "    [theme=dark] .colab-df-convert {\n",
              "      background-color: #3B4455;\n",
              "      fill: #D2E3FC;\n",
              "    }\n",
              "\n",
              "    [theme=dark] .colab-df-convert:hover {\n",
              "      background-color: #434B5C;\n",
              "      box-shadow: 0px 1px 3px 1px rgba(0, 0, 0, 0.15);\n",
              "      filter: drop-shadow(0px 1px 2px rgba(0, 0, 0, 0.3));\n",
              "      fill: #FFFFFF;\n",
              "    }\n",
              "  </style>\n",
              "\n",
              "      <script>\n",
              "        const buttonEl =\n",
              "          document.querySelector('#df-58466d06-95ad-4a63-a463-b6a1cd91b860 button.colab-df-convert');\n",
              "        buttonEl.style.display =\n",
              "          google.colab.kernel.accessAllowed ? 'block' : 'none';\n",
              "\n",
              "        async function convertToInteractive(key) {\n",
              "          const element = document.querySelector('#df-58466d06-95ad-4a63-a463-b6a1cd91b860');\n",
              "          const dataTable =\n",
              "            await google.colab.kernel.invokeFunction('convertToInteractive',\n",
              "                                                     [key], {});\n",
              "          if (!dataTable) return;\n",
              "\n",
              "          const docLinkHtml = 'Like what you see? Visit the ' +\n",
              "            '<a target=\"_blank\" href=https://colab.research.google.com/notebooks/data_table.ipynb>data table notebook</a>'\n",
              "            + ' to learn more about interactive tables.';\n",
              "          element.innerHTML = '';\n",
              "          dataTable['output_type'] = 'display_data';\n",
              "          await google.colab.output.renderOutput(dataTable, element);\n",
              "          const docLink = document.createElement('div');\n",
              "          docLink.innerHTML = docLinkHtml;\n",
              "          element.appendChild(docLink);\n",
              "        }\n",
              "      </script>\n",
              "    </div>\n",
              "  </div>\n",
              "  "
            ]
          },
          "metadata": {},
          "execution_count": 2
        }
      ]
    },
    {
      "cell_type": "code",
      "source": [
        "X= df.drop([\"Municipio\"], axis=1)"
      ],
      "metadata": {
        "id": "vDDTAdtRZO7c"
      },
      "execution_count": null,
      "outputs": []
    },
    {
      "cell_type": "code",
      "source": [
        "from sklearn.cluster import KMeans\n",
        "\n",
        "clustering_Kmeans = KMeans(n_clusters=2, max_iter=300)\n",
        "clustering_Kmeans.fit(X)"
      ],
      "metadata": {
        "colab": {
          "base_uri": "https://localhost:8080/",
          "height": 131
        },
        "id": "PeE49FNzZbup",
        "outputId": "5632e3b6-b4b5-49f6-c1ba-a5b6b1e642a6"
      },
      "execution_count": null,
      "outputs": [
        {
          "output_type": "stream",
          "name": "stderr",
          "text": [
            "/usr/local/lib/python3.10/dist-packages/sklearn/cluster/_kmeans.py:870: FutureWarning: The default value of `n_init` will change from 10 to 'auto' in 1.4. Set the value of `n_init` explicitly to suppress the warning\n",
            "  warnings.warn(\n"
          ]
        },
        {
          "output_type": "execute_result",
          "data": {
            "text/plain": [
              "KMeans(n_clusters=2)"
            ],
            "text/html": [
              "<style>#sk-container-id-1 {color: black;background-color: white;}#sk-container-id-1 pre{padding: 0;}#sk-container-id-1 div.sk-toggleable {background-color: white;}#sk-container-id-1 label.sk-toggleable__label {cursor: pointer;display: block;width: 100%;margin-bottom: 0;padding: 0.3em;box-sizing: border-box;text-align: center;}#sk-container-id-1 label.sk-toggleable__label-arrow:before {content: \"▸\";float: left;margin-right: 0.25em;color: #696969;}#sk-container-id-1 label.sk-toggleable__label-arrow:hover:before {color: black;}#sk-container-id-1 div.sk-estimator:hover label.sk-toggleable__label-arrow:before {color: black;}#sk-container-id-1 div.sk-toggleable__content {max-height: 0;max-width: 0;overflow: hidden;text-align: left;background-color: #f0f8ff;}#sk-container-id-1 div.sk-toggleable__content pre {margin: 0.2em;color: black;border-radius: 0.25em;background-color: #f0f8ff;}#sk-container-id-1 input.sk-toggleable__control:checked~div.sk-toggleable__content {max-height: 200px;max-width: 100%;overflow: auto;}#sk-container-id-1 input.sk-toggleable__control:checked~label.sk-toggleable__label-arrow:before {content: \"▾\";}#sk-container-id-1 div.sk-estimator input.sk-toggleable__control:checked~label.sk-toggleable__label {background-color: #d4ebff;}#sk-container-id-1 div.sk-label input.sk-toggleable__control:checked~label.sk-toggleable__label {background-color: #d4ebff;}#sk-container-id-1 input.sk-hidden--visually {border: 0;clip: rect(1px 1px 1px 1px);clip: rect(1px, 1px, 1px, 1px);height: 1px;margin: -1px;overflow: hidden;padding: 0;position: absolute;width: 1px;}#sk-container-id-1 div.sk-estimator {font-family: monospace;background-color: #f0f8ff;border: 1px dotted black;border-radius: 0.25em;box-sizing: border-box;margin-bottom: 0.5em;}#sk-container-id-1 div.sk-estimator:hover {background-color: #d4ebff;}#sk-container-id-1 div.sk-parallel-item::after {content: \"\";width: 100%;border-bottom: 1px solid gray;flex-grow: 1;}#sk-container-id-1 div.sk-label:hover label.sk-toggleable__label {background-color: #d4ebff;}#sk-container-id-1 div.sk-serial::before {content: \"\";position: absolute;border-left: 1px solid gray;box-sizing: border-box;top: 0;bottom: 0;left: 50%;z-index: 0;}#sk-container-id-1 div.sk-serial {display: flex;flex-direction: column;align-items: center;background-color: white;padding-right: 0.2em;padding-left: 0.2em;position: relative;}#sk-container-id-1 div.sk-item {position: relative;z-index: 1;}#sk-container-id-1 div.sk-parallel {display: flex;align-items: stretch;justify-content: center;background-color: white;position: relative;}#sk-container-id-1 div.sk-item::before, #sk-container-id-1 div.sk-parallel-item::before {content: \"\";position: absolute;border-left: 1px solid gray;box-sizing: border-box;top: 0;bottom: 0;left: 50%;z-index: -1;}#sk-container-id-1 div.sk-parallel-item {display: flex;flex-direction: column;z-index: 1;position: relative;background-color: white;}#sk-container-id-1 div.sk-parallel-item:first-child::after {align-self: flex-end;width: 50%;}#sk-container-id-1 div.sk-parallel-item:last-child::after {align-self: flex-start;width: 50%;}#sk-container-id-1 div.sk-parallel-item:only-child::after {width: 0;}#sk-container-id-1 div.sk-dashed-wrapped {border: 1px dashed gray;margin: 0 0.4em 0.5em 0.4em;box-sizing: border-box;padding-bottom: 0.4em;background-color: white;}#sk-container-id-1 div.sk-label label {font-family: monospace;font-weight: bold;display: inline-block;line-height: 1.2em;}#sk-container-id-1 div.sk-label-container {text-align: center;}#sk-container-id-1 div.sk-container {/* jupyter's `normalize.less` sets `[hidden] { display: none; }` but bootstrap.min.css set `[hidden] { display: none !important; }` so we also need the `!important` here to be able to override the default hidden behavior on the sphinx rendered scikit-learn.org. See: https://github.com/scikit-learn/scikit-learn/issues/21755 */display: inline-block !important;position: relative;}#sk-container-id-1 div.sk-text-repr-fallback {display: none;}</style><div id=\"sk-container-id-1\" class=\"sk-top-container\"><div class=\"sk-text-repr-fallback\"><pre>KMeans(n_clusters=2)</pre><b>In a Jupyter environment, please rerun this cell to show the HTML representation or trust the notebook. <br />On GitHub, the HTML representation is unable to render, please try loading this page with nbviewer.org.</b></div><div class=\"sk-container\" hidden><div class=\"sk-item\"><div class=\"sk-estimator sk-toggleable\"><input class=\"sk-toggleable__control sk-hidden--visually\" id=\"sk-estimator-id-1\" type=\"checkbox\" checked><label for=\"sk-estimator-id-1\" class=\"sk-toggleable__label sk-toggleable__label-arrow\">KMeans</label><div class=\"sk-toggleable__content\"><pre>KMeans(n_clusters=2)</pre></div></div></div></div></div>"
            ]
          },
          "metadata": {},
          "execution_count": 4
        }
      ]
    },
    {
      "cell_type": "code",
      "source": [
        "df['Cluster']=clustering_Kmeans.labels_\n",
        "df"
      ],
      "metadata": {
        "colab": {
          "base_uri": "https://localhost:8080/",
          "height": 363
        },
        "id": "4-SL-hRkZytE",
        "outputId": "cba065e1-90f7-40a1-9b20-f0f73f8e12e7"
      },
      "execution_count": null,
      "outputs": [
        {
          "output_type": "execute_result",
          "data": {
            "text/plain": [
              "              Municipio  Longitud  Latitud  Cluster\n",
              "0                 Tepic -104.8938  21.5079        0\n",
              "1     Laguna de Nayarit -105.2289  21.4179        0\n",
              "2              Sayulita -105.4417  20.8681        1\n",
              "3              San Blas -105.2769  21.5453        0\n",
              "4            Compostela -105.1922  21.2347        1\n",
              "5         Punta de Mita -105.4633  20.7725        1\n",
              "6            Mexcatitán -105.2439  22.0431        0\n",
              "7                  Jala -104.7972  21.0164        1\n",
              "8             La Tovara -105.2814  21.5364        0\n",
              "9  Rincón de Guayabitos -105.2778  21.0294        1"
            ],
            "text/html": [
              "\n",
              "  <div id=\"df-f7292e9b-09da-4b5d-979a-2bbb0751c18c\">\n",
              "    <div class=\"colab-df-container\">\n",
              "      <div>\n",
              "<style scoped>\n",
              "    .dataframe tbody tr th:only-of-type {\n",
              "        vertical-align: middle;\n",
              "    }\n",
              "\n",
              "    .dataframe tbody tr th {\n",
              "        vertical-align: top;\n",
              "    }\n",
              "\n",
              "    .dataframe thead th {\n",
              "        text-align: right;\n",
              "    }\n",
              "</style>\n",
              "<table border=\"1\" class=\"dataframe\">\n",
              "  <thead>\n",
              "    <tr style=\"text-align: right;\">\n",
              "      <th></th>\n",
              "      <th>Municipio</th>\n",
              "      <th>Longitud</th>\n",
              "      <th>Latitud</th>\n",
              "      <th>Cluster</th>\n",
              "    </tr>\n",
              "  </thead>\n",
              "  <tbody>\n",
              "    <tr>\n",
              "      <th>0</th>\n",
              "      <td>Tepic</td>\n",
              "      <td>-104.8938</td>\n",
              "      <td>21.5079</td>\n",
              "      <td>0</td>\n",
              "    </tr>\n",
              "    <tr>\n",
              "      <th>1</th>\n",
              "      <td>Laguna de Nayarit</td>\n",
              "      <td>-105.2289</td>\n",
              "      <td>21.4179</td>\n",
              "      <td>0</td>\n",
              "    </tr>\n",
              "    <tr>\n",
              "      <th>2</th>\n",
              "      <td>Sayulita</td>\n",
              "      <td>-105.4417</td>\n",
              "      <td>20.8681</td>\n",
              "      <td>1</td>\n",
              "    </tr>\n",
              "    <tr>\n",
              "      <th>3</th>\n",
              "      <td>San Blas</td>\n",
              "      <td>-105.2769</td>\n",
              "      <td>21.5453</td>\n",
              "      <td>0</td>\n",
              "    </tr>\n",
              "    <tr>\n",
              "      <th>4</th>\n",
              "      <td>Compostela</td>\n",
              "      <td>-105.1922</td>\n",
              "      <td>21.2347</td>\n",
              "      <td>1</td>\n",
              "    </tr>\n",
              "    <tr>\n",
              "      <th>5</th>\n",
              "      <td>Punta de Mita</td>\n",
              "      <td>-105.4633</td>\n",
              "      <td>20.7725</td>\n",
              "      <td>1</td>\n",
              "    </tr>\n",
              "    <tr>\n",
              "      <th>6</th>\n",
              "      <td>Mexcatitán</td>\n",
              "      <td>-105.2439</td>\n",
              "      <td>22.0431</td>\n",
              "      <td>0</td>\n",
              "    </tr>\n",
              "    <tr>\n",
              "      <th>7</th>\n",
              "      <td>Jala</td>\n",
              "      <td>-104.7972</td>\n",
              "      <td>21.0164</td>\n",
              "      <td>1</td>\n",
              "    </tr>\n",
              "    <tr>\n",
              "      <th>8</th>\n",
              "      <td>La Tovara</td>\n",
              "      <td>-105.2814</td>\n",
              "      <td>21.5364</td>\n",
              "      <td>0</td>\n",
              "    </tr>\n",
              "    <tr>\n",
              "      <th>9</th>\n",
              "      <td>Rincón de Guayabitos</td>\n",
              "      <td>-105.2778</td>\n",
              "      <td>21.0294</td>\n",
              "      <td>1</td>\n",
              "    </tr>\n",
              "  </tbody>\n",
              "</table>\n",
              "</div>\n",
              "      <button class=\"colab-df-convert\" onclick=\"convertToInteractive('df-f7292e9b-09da-4b5d-979a-2bbb0751c18c')\"\n",
              "              title=\"Convert this dataframe to an interactive table.\"\n",
              "              style=\"display:none;\">\n",
              "        \n",
              "  <svg xmlns=\"http://www.w3.org/2000/svg\" height=\"24px\"viewBox=\"0 0 24 24\"\n",
              "       width=\"24px\">\n",
              "    <path d=\"M0 0h24v24H0V0z\" fill=\"none\"/>\n",
              "    <path d=\"M18.56 5.44l.94 2.06.94-2.06 2.06-.94-2.06-.94-.94-2.06-.94 2.06-2.06.94zm-11 1L8.5 8.5l.94-2.06 2.06-.94-2.06-.94L8.5 2.5l-.94 2.06-2.06.94zm10 10l.94 2.06.94-2.06 2.06-.94-2.06-.94-.94-2.06-.94 2.06-2.06.94z\"/><path d=\"M17.41 7.96l-1.37-1.37c-.4-.4-.92-.59-1.43-.59-.52 0-1.04.2-1.43.59L10.3 9.45l-7.72 7.72c-.78.78-.78 2.05 0 2.83L4 21.41c.39.39.9.59 1.41.59.51 0 1.02-.2 1.41-.59l7.78-7.78 2.81-2.81c.8-.78.8-2.07 0-2.86zM5.41 20L4 18.59l7.72-7.72 1.47 1.35L5.41 20z\"/>\n",
              "  </svg>\n",
              "      </button>\n",
              "      \n",
              "  <style>\n",
              "    .colab-df-container {\n",
              "      display:flex;\n",
              "      flex-wrap:wrap;\n",
              "      gap: 12px;\n",
              "    }\n",
              "\n",
              "    .colab-df-convert {\n",
              "      background-color: #E8F0FE;\n",
              "      border: none;\n",
              "      border-radius: 50%;\n",
              "      cursor: pointer;\n",
              "      display: none;\n",
              "      fill: #1967D2;\n",
              "      height: 32px;\n",
              "      padding: 0 0 0 0;\n",
              "      width: 32px;\n",
              "    }\n",
              "\n",
              "    .colab-df-convert:hover {\n",
              "      background-color: #E2EBFA;\n",
              "      box-shadow: 0px 1px 2px rgba(60, 64, 67, 0.3), 0px 1px 3px 1px rgba(60, 64, 67, 0.15);\n",
              "      fill: #174EA6;\n",
              "    }\n",
              "\n",
              "    [theme=dark] .colab-df-convert {\n",
              "      background-color: #3B4455;\n",
              "      fill: #D2E3FC;\n",
              "    }\n",
              "\n",
              "    [theme=dark] .colab-df-convert:hover {\n",
              "      background-color: #434B5C;\n",
              "      box-shadow: 0px 1px 3px 1px rgba(0, 0, 0, 0.15);\n",
              "      filter: drop-shadow(0px 1px 2px rgba(0, 0, 0, 0.3));\n",
              "      fill: #FFFFFF;\n",
              "    }\n",
              "  </style>\n",
              "\n",
              "      <script>\n",
              "        const buttonEl =\n",
              "          document.querySelector('#df-f7292e9b-09da-4b5d-979a-2bbb0751c18c button.colab-df-convert');\n",
              "        buttonEl.style.display =\n",
              "          google.colab.kernel.accessAllowed ? 'block' : 'none';\n",
              "\n",
              "        async function convertToInteractive(key) {\n",
              "          const element = document.querySelector('#df-f7292e9b-09da-4b5d-979a-2bbb0751c18c');\n",
              "          const dataTable =\n",
              "            await google.colab.kernel.invokeFunction('convertToInteractive',\n",
              "                                                     [key], {});\n",
              "          if (!dataTable) return;\n",
              "\n",
              "          const docLinkHtml = 'Like what you see? Visit the ' +\n",
              "            '<a target=\"_blank\" href=https://colab.research.google.com/notebooks/data_table.ipynb>data table notebook</a>'\n",
              "            + ' to learn more about interactive tables.';\n",
              "          element.innerHTML = '';\n",
              "          dataTable['output_type'] = 'display_data';\n",
              "          await google.colab.output.renderOutput(dataTable, element);\n",
              "          const docLink = document.createElement('div');\n",
              "          docLink.innerHTML = docLinkHtml;\n",
              "          element.appendChild(docLink);\n",
              "        }\n",
              "      </script>\n",
              "    </div>\n",
              "  </div>\n",
              "  "
            ]
          },
          "metadata": {},
          "execution_count": 5
        }
      ]
    },
    {
      "cell_type": "code",
      "source": [
        "import matplotlib.pyplot as plt\n",
        "fig= plt.figure(figsize=(6,6))\n",
        "ax=fig.add_subplot(1,1,1)\n",
        "ax.set_xlabel(\"Longitud\")\n",
        "ax.set_ylabel(\"Latitud\")\n",
        "ax.set_title(\"Clustering\")\n",
        "\n",
        "colores=np.array(['blue','green'])\n",
        "ax.scatter(x=df.Longitud, y=df.Latitud,\n",
        "           c=colores[df.Cluster], s=50)\n",
        "ax.scatter(x=-104.8938, y=21.5079, c='red')\n",
        "plt.show()"
      ],
      "metadata": {
        "id": "ke_B5-hkiAGk",
        "colab": {
          "base_uri": "https://localhost:8080/",
          "height": 564
        },
        "outputId": "8dc6b321-08bc-416e-9e7e-6f7e4f8ba0b4"
      },
      "execution_count": null,
      "outputs": [
        {
          "output_type": "display_data",
          "data": {
            "text/plain": [
              "<Figure size 600x600 with 1 Axes>"
            ],
            "image/png": "[encoded data removed]"
          },
          "metadata": {}
        }
      ]
    },
    {
      "cell_type": "code",
      "source": [
        "df.rename(columns={\"Longitud\": \"x\", \"Latitud\": \"y\"})"
      ],
      "metadata": {
        "colab": {
          "base_uri": "https://localhost:8080/",
          "height": 363
        },
        "id": "coRJw7yFXxHn",
        "outputId": "acdbe1a6-96af-4a4a-e7f0-312eae8ba232"
      },
      "execution_count": null,
      "outputs": [
        {
          "output_type": "execute_result",
          "data": {
            "text/plain": [
              "              Municipio         x        y  Cluster\n",
              "0                 Tepic -104.8938  21.5079        0\n",
              "1     Laguna de Nayarit -105.2289  21.4179        0\n",
              "2              Sayulita -105.4417  20.8681        1\n",
              "3              San Blas -105.2769  21.5453        0\n",
              "4            Compostela -105.1922  21.2347        1\n",
              "5         Punta de Mita -105.4633  20.7725        1\n",
              "6            Mexcatitán -105.2439  22.0431        0\n",
              "7                  Jala -104.7972  21.0164        1\n",
              "8             La Tovara -105.2814  21.5364        0\n",
              "9  Rincón de Guayabitos -105.2778  21.0294        1"
            ],
            "text/html": [
              "\n",
              "  <div id=\"df-6c99c785-f041-46ab-95bf-d303555eba00\">\n",
              "    <div class=\"colab-df-container\">\n",
              "      <div>\n",
              "<style scoped>\n",
              "    .dataframe tbody tr th:only-of-type {\n",
              "        vertical-align: middle;\n",
              "    }\n",
              "\n",
              "    .dataframe tbody tr th {\n",
              "        vertical-align: top;\n",
              "    }\n",
              "\n",
              "    .dataframe thead th {\n",
              "        text-align: right;\n",
              "    }\n",
              "</style>\n",
              "<table border=\"1\" class=\"dataframe\">\n",
              "  <thead>\n",
              "    <tr style=\"text-align: right;\">\n",
              "      <th></th>\n",
              "      <th>Municipio</th>\n",
              "      <th>x</th>\n",
              "      <th>y</th>\n",
              "      <th>Cluster</th>\n",
              "    </tr>\n",
              "  </thead>\n",
              "  <tbody>\n",
              "    <tr>\n",
              "      <th>0</th>\n",
              "      <td>Tepic</td>\n",
              "      <td>-104.8938</td>\n",
              "      <td>21.5079</td>\n",
              "      <td>0</td>\n",
              "    </tr>\n",
              "    <tr>\n",
              "      <th>1</th>\n",
              "      <td>Laguna de Nayarit</td>\n",
              "      <td>-105.2289</td>\n",
              "      <td>21.4179</td>\n",
              "      <td>0</td>\n",
              "    </tr>\n",
              "    <tr>\n",
              "      <th>2</th>\n",
              "      <td>Sayulita</td>\n",
              "      <td>-105.4417</td>\n",
              "      <td>20.8681</td>\n",
              "      <td>1</td>\n",
              "    </tr>\n",
              "    <tr>\n",
              "      <th>3</th>\n",
              "      <td>San Blas</td>\n",
              "      <td>-105.2769</td>\n",
              "      <td>21.5453</td>\n",
              "      <td>0</td>\n",
              "    </tr>\n",
              "    <tr>\n",
              "      <th>4</th>\n",
              "      <td>Compostela</td>\n",
              "      <td>-105.1922</td>\n",
              "      <td>21.2347</td>\n",
              "      <td>1</td>\n",
              "    </tr>\n",
              "    <tr>\n",
              "      <th>5</th>\n",
              "      <td>Punta de Mita</td>\n",
              "      <td>-105.4633</td>\n",
              "      <td>20.7725</td>\n",
              "      <td>1</td>\n",
              "    </tr>\n",
              "    <tr>\n",
              "      <th>6</th>\n",
              "      <td>Mexcatitán</td>\n",
              "      <td>-105.2439</td>\n",
              "      <td>22.0431</td>\n",
              "      <td>0</td>\n",
              "    </tr>\n",
              "    <tr>\n",
              "      <th>7</th>\n",
              "      <td>Jala</td>\n",
              "      <td>-104.7972</td>\n",
              "      <td>21.0164</td>\n",
              "      <td>1</td>\n",
              "    </tr>\n",
              "    <tr>\n",
              "      <th>8</th>\n",
              "      <td>La Tovara</td>\n",
              "      <td>-105.2814</td>\n",
              "      <td>21.5364</td>\n",
              "      <td>0</td>\n",
              "    </tr>\n",
              "    <tr>\n",
              "      <th>9</th>\n",
              "      <td>Rincón de Guayabitos</td>\n",
              "      <td>-105.2778</td>\n",
              "      <td>21.0294</td>\n",
              "      <td>1</td>\n",
              "    </tr>\n",
              "  </tbody>\n",
              "</table>\n",
              "</div>\n",
              "      <button class=\"colab-df-convert\" onclick=\"convertToInteractive('df-6c99c785-f041-46ab-95bf-d303555eba00')\"\n",
              "              title=\"Convert this dataframe to an interactive table.\"\n",
              "              style=\"display:none;\">\n",
              "        \n",
              "  <svg xmlns=\"http://www.w3.org/2000/svg\" height=\"24px\"viewBox=\"0 0 24 24\"\n",
              "       width=\"24px\">\n",
              "    <path d=\"M0 0h24v24H0V0z\" fill=\"none\"/>\n",
              "    <path d=\"M18.56 5.44l.94 2.06.94-2.06 2.06-.94-2.06-.94-.94-2.06-.94 2.06-2.06.94zm-11 1L8.5 8.5l.94-2.06 2.06-.94-2.06-.94L8.5 2.5l-.94 2.06-2.06.94zm10 10l.94 2.06.94-2.06 2.06-.94-2.06-.94-.94-2.06-.94 2.06-2.06.94z\"/><path d=\"M17.41 7.96l-1.37-1.37c-.4-.4-.92-.59-1.43-.59-.52 0-1.04.2-1.43.59L10.3 9.45l-7.72 7.72c-.78.78-.78 2.05 0 2.83L4 21.41c.39.39.9.59 1.41.59.51 0 1.02-.2 1.41-.59l7.78-7.78 2.81-2.81c.8-.78.8-2.07 0-2.86zM5.41 20L4 18.59l7.72-7.72 1.47 1.35L5.41 20z\"/>\n",
              "  </svg>\n",
              "      </button>\n",
              "      \n",
              "  <style>\n",
              "    .colab-df-container {\n",
              "      display:flex;\n",
              "      flex-wrap:wrap;\n",
              "      gap: 12px;\n",
              "    }\n",
              "\n",
              "    .colab-df-convert {\n",
              "      background-color: #E8F0FE;\n",
              "      border: none;\n",
              "      border-radius: 50%;\n",
              "      cursor: pointer;\n",
              "      display: none;\n",
              "      fill: #1967D2;\n",
              "      height: 32px;\n",
              "      padding: 0 0 0 0;\n",
              "      width: 32px;\n",
              "    }\n",
              "\n",
              "    .colab-df-convert:hover {\n",
              "      background-color: #E2EBFA;\n",
              "      box-shadow: 0px 1px 2px rgba(60, 64, 67, 0.3), 0px 1px 3px 1px rgba(60, 64, 67, 0.15);\n",
              "      fill: #174EA6;\n",
              "    }\n",
              "\n",
              "    [theme=dark] .colab-df-convert {\n",
              "      background-color: #3B4455;\n",
              "      fill: #D2E3FC;\n",
              "    }\n",
              "\n",
              "    [theme=dark] .colab-df-convert:hover {\n",
              "      background-color: #434B5C;\n",
              "      box-shadow: 0px 1px 3px 1px rgba(0, 0, 0, 0.15);\n",
              "      filter: drop-shadow(0px 1px 2px rgba(0, 0, 0, 0.3));\n",
              "      fill: #FFFFFF;\n",
              "    }\n",
              "  </style>\n",
              "\n",
              "      <script>\n",
              "        const buttonEl =\n",
              "          document.querySelector('#df-6c99c785-f041-46ab-95bf-d303555eba00 button.colab-df-convert');\n",
              "        buttonEl.style.display =\n",
              "          google.colab.kernel.accessAllowed ? 'block' : 'none';\n",
              "\n",
              "        async function convertToInteractive(key) {\n",
              "          const element = document.querySelector('#df-6c99c785-f041-46ab-95bf-d303555eba00');\n",
              "          const dataTable =\n",
              "            await google.colab.kernel.invokeFunction('convertToInteractive',\n",
              "                                                     [key], {});\n",
              "          if (!dataTable) return;\n",
              "\n",
              "          const docLinkHtml = 'Like what you see? Visit the ' +\n",
              "            '<a target=\"_blank\" href=https://colab.research.google.com/notebooks/data_table.ipynb>data table notebook</a>'\n",
              "            + ' to learn more about interactive tables.';\n",
              "          element.innerHTML = '';\n",
              "          dataTable['output_type'] = 'display_data';\n",
              "          await google.colab.output.renderOutput(dataTable, element);\n",
              "          const docLink = document.createElement('div');\n",
              "          docLink.innerHTML = docLinkHtml;\n",
              "          element.appendChild(docLink);\n",
              "        }\n",
              "      </script>\n",
              "    </div>\n",
              "  </div>\n",
              "  "
            ]
          },
          "metadata": {},
          "execution_count": 7
        }
      ]
    },
    {
      "cell_type": "code",
      "source": [
        "import matplotlib.pyplot as plt\n",
        "fig= plt.figure(figsize=(6,6))\n",
        "ax=fig.add_subplot(1,1,1)\n",
        "ax.set_xlabel(\"Longitud\")\n",
        "ax.set_ylabel(\"Latitud\")\n",
        "ax.set_title(\"Clustering\")\n",
        "\n",
        "colores=np.array(['blue','green'])\n",
        "ax.scatter(x=df.Longitud, y=df.Latitud,\n",
        "          s=50)\n",
        "ax.scatter(x=-104.8938, y=21.5079, c='red')\n",
        "plt.show()"
      ],
      "metadata": {
        "id": "_Ivha2WMYZDF",
        "colab": {
          "base_uri": "https://localhost:8080/",
          "height": 564
        },
        "outputId": "4b80e51d-ec70-413c-8cec-24bc39f0707e"
      },
      "execution_count": null,
      "outputs": [
        {
          "output_type": "display_data",
          "data": {
            "text/plain": [
              "<Figure size 600x600 with 1 Axes>"
            ],
            "image/png": "[encoded data removed]"
          },
          "metadata": {}
        }
      ]
    },
    {
      "cell_type": "markdown",
      "source": [
        "# Primer modelo para modelacion de las dos rutas"
      ],
      "metadata": {
        "id": "VpLhK470TYbm"
      }
    },
    {
      "cell_type": "code",
      "source": [
        "pip install pulp"
      ],
      "metadata": {
        "colab": {
          "base_uri": "https://localhost:8080/"
        },
        "id": "gLhLEK0CNqiA",
        "outputId": "6c2b4f86-c1ae-4f6d-978a-79da83412a5b"
      },
      "execution_count": null,
      "outputs": [
        {
          "output_type": "stream",
          "name": "stdout",
          "text": [
            "Looking in indexes: https://pypi.org/simple, https://us-python.pkg.dev/colab-wheels/public/simple/\n",
            "Collecting pulp\n",
            "  Downloading PuLP-2.7.0-py3-none-any.whl (14.3 MB)\n",
            "\u001b[2K     \u001b[90m━━━━━━━━━━━━━━━━━━━━━━━━━━━━━━━━━━━━━━━━\u001b[0m \u001b[32m14.3/14.3 MB\u001b[0m \u001b[31m41.5 MB/s\u001b[0m eta \u001b[36m0:00:00\u001b[0m\n",
            "\u001b[?25hInstalling collected packages: pulp\n",
            "Successfully installed pulp-2.7.0\n"
          ]
        }
      ]
    },
    {
      "cell_type": "code",
      "source": [
        "import matplotlib\n",
        "import matplotlib.pylab as plt\n",
        "import seaborn as sns\n",
        "import pulp\n",
        "n_customer = 4\n",
        "n_point = n_customer + 1\n",
        "distances = pd.DataFrame(np.array([[0, 2.536, 2.536, 3.13, 2.481],\n",
        "                                   [2.536, 0, 3.05, 3.64, 2.994],\n",
        "                                   [2.536, 3.05, 0, 3.23, 2.059],\n",
        "                                   [3.13, 3.64, 3.23, 0, 3.19],\n",
        "                                   [2.481, 2.994, 2.059, 3.19, 0]]))\n",
        "fig, ax = plt.subplots(figsize=(8, 7))\n",
        "sns.heatmap(distances)\n",
        "plt.title('distance matrix')\n",
        "plt.show()"
      ],
      "metadata": {
        "colab": {
          "base_uri": "https://localhost:8080/",
          "height": 622
        },
        "id": "IwePIs51ITFs",
        "outputId": "ab59a4fc-d251-4b90-97b7-f97e708d53ee"
      },
      "execution_count": null,
      "outputs": [
        {
          "output_type": "display_data",
          "data": {
            "text/plain": [
              "<Figure size 800x700 with 2 Axes>"
            ],
            "image/png": "[encoded data removed]"
          },
          "metadata": {}
        }
      ]
    },
    {
      "cell_type": "code",
      "source": [
        "# Tipo de problema\n",
        "problem = pulp.LpProblem('tsp_mip', pulp.LpMinimize)\n",
        "\n",
        "# Variables\n",
        "x = pulp.LpVariable.dicts('x', ((i, j) for i in range(n_point) for j in range(n_point)), lowBound=0, upBound=1, cat='Binary')\n",
        "# Variable artificial para eliminacion de subtours\n",
        "u = pulp.LpVariable.dicts('u', (i for i in range(n_point)), lowBound=1, upBound=n_point, cat='Integer')\n",
        "\n",
        "# Funcion objetivo\n",
        "problem += pulp.lpSum(distances[i][j] * x[i, j] for i in range(n_point) for j in range(n_point))\n",
        "\n",
        "# Restricciones\n",
        "for i in range(n_point):\n",
        "    problem += x[i, i] == 0\n",
        "\n",
        "for i in range(n_point):\n",
        "    problem += pulp.lpSum(x[i, j] for j in range(n_point)) == 1\n",
        "    problem += pulp.lpSum(x[j, i] for j in range(n_point)) == 1\n",
        "\n",
        "# Eliminacion de subtours\n",
        "for i in range(n_point):\n",
        "    for j in range(n_point):\n",
        "        if i != j and (i != 0 and j != 0):\n",
        "            problem += u[i] - u[j] <= n_point * (1 - x[i, j]) - 1\n",
        "\n",
        "\n",
        "status = problem.solve()\n",
        "status, pulp.LpStatus[status], pulp.value(problem.objective)"
      ],
      "metadata": {
        "colab": {
          "base_uri": "https://localhost:8080/"
        },
        "id": "7Yfz295AOhNM",
        "outputId": "90a27b1d-71f5-42ec-956a-38c746450837"
      },
      "execution_count": null,
      "outputs": [
        {
          "output_type": "execute_result",
          "data": {
            "text/plain": [
              "(1, 'Optimal', 13.946000000000002)"
            ]
          },
          "metadata": {},
          "execution_count": 14
        }
      ]
    },
    {
      "cell_type": "markdown",
      "source": [
        "### Explicacion del codigo\n",
        "Primeramente se guarda en una variable el problema que se va a realizar, asi como el nombre del mismo y el objetivo (minimizar), en nuestro caso lo guardamos en la variable problem. \\\n",
        "Como siguiente paso se inicializan las variables, tanto las x con un valor binario, comprendida por los conjuntos de nodo de origen \"i\" y de destino \"j\", que se refieren si se usa o no un arco. Asi como las variables artificiales \"u\", que nos permitiran la eliminacion de los subtours, que se refieren al numero de paso que se visito i ciudad, con un valor posible desde el 0 hasta el numero total de ciudades, y una variable tipo entero. \\\n",
        "La funcion objetivo se comprende de la doble suma de los conjuntos de \"i\" y \"j\" de la multiplicacion de costos por la variable binaria x_i,j. \\\n",
        "Por ultimo, las restricciones, se considera que no se puede utilizar la diagonal de los costos, por esos a la variable x(i,i) se le asigna un valor de 0, se considera las otras dos restricciones que cualquier nodo de origen solamente puede ir a un nodo de destino, asi como viceversa. Y de igual manera se da la eliminazion de los subtours. \\\n",
        "Por ultimo se pide que se resuelva el problema, asi como que se despliegue el resultado del mismo. \\\n",
        "Se baso en el codigo extraido de la plataforma Kaggle:\n",
        "https://www.kaggle.com/code/itoeiji/solving-tsp-and-vrp-by-mip-using-pulp/notebook\n",
        "\n"
      ],
      "metadata": {
        "id": "-Bd3chnqigwF"
      }
    },
    {
      "cell_type": "code",
      "source": [
        "import matplotlib\n",
        "import matplotlib.pylab as plt\n",
        "import seaborn as sns\n",
        "import pulp\n",
        "n_customer = 5\n",
        "n_point = n_customer + 1\n",
        "distances = pd.DataFrame(np.array([[0, 3.34, 2.443, 3.5, 2.56, 3.02],\n",
        "                                   [3.34, 0, 2.916, 2.173, 3.65, 2.306],\n",
        "                                   [2.443, 2.916, 0, 3.19, 2.764, 2.594],\n",
        "                                   [3.5, 2.173, 3.19, 0, 3.92, 2.53],\n",
        "                                   [2.56, 3.65, 2.764, 3.92, 0, 3.34],\n",
        "                                   [3.02, 2.306, 2.594, 2.53, 3.34, 0]]))\n",
        "fig, ax = plt.subplots(figsize=(8, 7))\n",
        "sns.heatmap(distances)\n",
        "plt.title('distance matrix')\n",
        "plt.show()"
      ],
      "metadata": {
        "colab": {
          "base_uri": "https://localhost:8080/",
          "height": 622
        },
        "id": "nndvUtjGR1jT",
        "outputId": "8d9c07b5-eff2-43e7-cc4b-19cb2104e3fa"
      },
      "execution_count": null,
      "outputs": [
        {
          "output_type": "display_data",
          "data": {
            "text/plain": [
              "<Figure size 800x700 with 2 Axes>"
            ],
            "image/png": "[encoded data removed]"
          },
          "metadata": {}
        }
      ]
    },
    {
      "cell_type": "code",
      "source": [
        "# Tipo de problema\n",
        "problem = pulp.LpProblem('tsp_mip', pulp.LpMinimize)\n",
        "\n",
        "# Variables\n",
        "x = pulp.LpVariable.dicts('x', ((i, j) for i in range(n_point) for j in range(n_point)), lowBound=0, upBound=1, cat='Binary')\n",
        "# Variable artificial para eliminacion de subtours\n",
        "u = pulp.LpVariable.dicts('u', (i for i in range(n_point)), lowBound=1, upBound=n_point, cat='Integer')\n",
        "\n",
        "# Funcion objetivo\n",
        "problem += pulp.lpSum(distances[i][j] * x[i, j] for i in range(n_point) for j in range(n_point))\n",
        "\n",
        "# Restricciones\n",
        "for i in range(n_point):\n",
        "    problem += x[i, i] == 0\n",
        "\n",
        "for i in range(n_point):\n",
        "    problem += pulp.lpSum(x[i, j] for j in range(n_point)) == 1\n",
        "    problem += pulp.lpSum(x[j, i] for j in range(n_point)) == 1\n",
        "\n",
        "# Eliminacion de subtours\n",
        "for i in range(n_point):\n",
        "    for j in range(n_point):\n",
        "        if i != j and (i != 0 and j != 0):\n",
        "            problem += u[i] - u[j] <= n_point * (1 - x[i, j]) - 1\n",
        "\n",
        "# solve problem\n",
        "status = problem.solve()\n",
        "\n",
        "# output status, value of objective function\n",
        "status, pulp.LpStatus[status], pulp.value(problem.objective)"
      ],
      "metadata": {
        "colab": {
          "base_uri": "https://localhost:8080/"
        },
        "id": "mSy6Yg0bR1EC",
        "outputId": "a14fdba9-ace7-48bf-db62-a015e5d0b9c2"
      },
      "execution_count": null,
      "outputs": [
        {
          "output_type": "execute_result",
          "data": {
            "text/plain": [
              "(1, 'Optimal', 15.896999999999998)"
            ]
          },
          "metadata": {},
          "execution_count": 18
        }
      ]
    },
    {
      "cell_type": "markdown",
      "source": [
        "## Primer experimento"
      ],
      "metadata": {
        "id": "n_HaPnqJTo2u"
      }
    },
    {
      "cell_type": "code",
      "source": [
        "pip install pulp"
      ],
      "metadata": {
        "colab": {
          "base_uri": "https://localhost:8080/"
        },
        "id": "xS03ISk_1rOz",
        "outputId": "caea0f87-234d-419b-e346-c7cb5434a96c"
      },
      "execution_count": null,
      "outputs": [
        {
          "output_type": "stream",
          "name": "stdout",
          "text": [
            "Looking in indexes: https://pypi.org/simple, https://us-python.pkg.dev/colab-wheels/public/simple/\n",
            "Collecting pulp\n",
            "  Downloading PuLP-2.7.0-py3-none-any.whl (14.3 MB)\n",
            "\u001b[2K     \u001b[90m━━━━━━━━━━━━━━━━━━━━━━━━━━━━━━━━━━━━━━━━\u001b[0m \u001b[32m14.3/14.3 MB\u001b[0m \u001b[31m16.9 MB/s\u001b[0m eta \u001b[36m0:00:00\u001b[0m\n",
            "\u001b[?25hInstalling collected packages: pulp\n",
            "Successfully installed pulp-2.7.0\n"
          ]
        }
      ]
    },
    {
      "cell_type": "code",
      "source": [
        "import pulp\n",
        "import pandas as pd\n",
        "import numpy as np"
      ],
      "metadata": {
        "id": "GUz7HZMM1mr4"
      },
      "execution_count": null,
      "outputs": []
    },
    {
      "cell_type": "code",
      "source": [
        "import pulp\n",
        "n_customer = 2\n",
        "n_point = n_customer + 1\n",
        "distances = pd.DataFrame(np.array([[0, 2.536, 3.34],\n",
        "                                   [2.536, 0, 3.61],\n",
        "                                   [3.34, 3.61, 0]\n",
        "                                   ]))\n",
        "# Tipo de problema\n",
        "problem = pulp.LpProblem('tsp_mip', pulp.LpMinimize)\n",
        "\n",
        "# Variables\n",
        "x = pulp.LpVariable.dicts('x', ((i, j) for i in range(n_point) for j in range(n_point)), lowBound=0, upBound=1, cat='Binary')\n",
        "# Variable artificial para eliminacion de subtours\n",
        "u = pulp.LpVariable.dicts('u', (i for i in range(n_point)), lowBound=1, upBound=n_point, cat='Integer')\n",
        "\n",
        "# Funcion objetivo\n",
        "problem += pulp.lpSum(distances[i][j] * x[i, j] for i in range(n_point) for j in range(n_point))\n",
        "\n",
        "# Restricciones\n",
        "for i in range(n_point):\n",
        "    problem += x[i, i] == 0\n",
        "\n",
        "for i in range(n_point):\n",
        "    problem += pulp.lpSum(x[i, j] for j in range(n_point)) == 1\n",
        "    problem += pulp.lpSum(x[j, i] for j in range(n_point)) == 1\n",
        "\n",
        "# Eliminacion de subtours\n",
        "for i in range(n_point):\n",
        "    for j in range(n_point):\n",
        "        if i != j and (i != 0 and j != 0):\n",
        "            problem += u[i] - u[j] <= n_point * (1 - x[i, j]) - 1\n",
        "\n",
        "# solve problem\n",
        "status = problem.solve()\n",
        "\n",
        "# output status, value of objective function\n",
        "status, pulp.LpStatus[status], pulp.value(problem.objective)"
      ],
      "metadata": {
        "colab": {
          "base_uri": "https://localhost:8080/"
        },
        "id": "xtXGDz2cTq5z",
        "outputId": "82cdb29c-bdc4-4f17-be98-349617e13aef"
      },
      "execution_count": null,
      "outputs": [
        {
          "output_type": "execute_result",
          "data": {
            "text/plain": [
              "(1, 'Optimal', 9.486)"
            ]
          },
          "metadata": {},
          "execution_count": 7
        }
      ]
    },
    {
      "cell_type": "markdown",
      "source": [
        "## Experimento 2"
      ],
      "metadata": {
        "id": "rvTAujx7WSXv"
      }
    },
    {
      "cell_type": "code",
      "source": [
        "import pulp\n",
        "n_customer = 2\n",
        "n_point = n_customer + 1\n",
        "distances = pd.DataFrame(np.array([[0, 2.173, 3.14],\n",
        "                                   [2.173, 0, 3.4],\n",
        "                                   [3.14, 3.4, 0]\n",
        "                                   ]))\n",
        "# Tipo de problema\n",
        "problem = pulp.LpProblem('tsp_mip', pulp.LpMinimize)\n",
        "\n",
        "# Variables\n",
        "x = pulp.LpVariable.dicts('x', ((i, j) for i in range(n_point) for j in range(n_point)), lowBound=0, upBound=1, cat='Binary')\n",
        "# Variable artificial para eliminacion de subtours\n",
        "u = pulp.LpVariable.dicts('u', (i for i in range(n_point)), lowBound=1, upBound=n_point, cat='Integer')\n",
        "\n",
        "# Funcion objetivo\n",
        "problem += pulp.lpSum(distances[i][j] * x[i, j] for i in range(n_point) for j in range(n_point))\n",
        "\n",
        "# Restricciones\n",
        "for i in range(n_point):\n",
        "    problem += x[i, i] == 0\n",
        "\n",
        "for i in range(n_point):\n",
        "    problem += pulp.lpSum(x[i, j] for j in range(n_point)) == 1\n",
        "    problem += pulp.lpSum(x[j, i] for j in range(n_point)) == 1\n",
        "\n",
        "# Eliminacion de subtours\n",
        "for i in range(n_point):\n",
        "    for j in range(n_point):\n",
        "        if i != j and (i != 0 and j != 0):\n",
        "            problem += u[i] - u[j] <= n_point * (1 - x[i, j]) - 1\n",
        "\n",
        "# solve problem\n",
        "status = problem.solve()\n",
        "\n",
        "# output status, value of objective function\n",
        "status, pulp.LpStatus[status], pulp.value(problem.objective)"
      ],
      "metadata": {
        "colab": {
          "base_uri": "https://localhost:8080/"
        },
        "id": "YGm03JkDWR2I",
        "outputId": "fd5e1186-da2f-4fc4-c90e-2909977119f7"
      },
      "execution_count": null,
      "outputs": [
        {
          "output_type": "execute_result",
          "data": {
            "text/plain": [
              "(1, 'Optimal', 8.713000000000001)"
            ]
          },
          "metadata": {},
          "execution_count": 10
        }
      ]
    },
    {
      "cell_type": "markdown",
      "source": [
        "## Experimento 3"
      ],
      "metadata": {
        "id": "_l7d17ttWUQw"
      }
    },
    {
      "cell_type": "code",
      "source": [
        "import pulp\n",
        "n_customer = 2\n",
        "n_point = n_customer + 1\n",
        "distances = pd.DataFrame(np.array([[0, 2.173, 3.14],\n",
        "                                   [2.173, 0, 3.4],\n",
        "                                   [3.14, 3.4, 0]\n",
        "                                   ]))\n",
        "# Tipo de problema\n",
        "problem = pulp.LpProblem('tsp_mip', pulp.LpMinimize)\n",
        "\n",
        "# Variables\n",
        "x = pulp.LpVariable.dicts('x', ((i, j) for i in range(n_point) for j in range(n_point)), lowBound=0, upBound=1, cat='Binary')\n",
        "# Variable artificial para eliminacion de subtours\n",
        "u = pulp.LpVariable.dicts('u', (i for i in range(n_point)), lowBound=1, upBound=n_point, cat='Integer')\n",
        "\n",
        "# Funcion objetivo\n",
        "problem += pulp.lpSum(distances[i][j] * x[i, j] for i in range(n_point) for j in range(n_point))\n",
        "\n",
        "# Restricciones\n",
        "for i in range(n_point):\n",
        "    problem += x[i, i] == 0\n",
        "\n",
        "for i in range(n_point):\n",
        "    problem += pulp.lpSum(x[i, j] for j in range(n_point)) == 1\n",
        "    problem += pulp.lpSum(x[j, i] for j in range(n_point)) == 1\n",
        "\n",
        "# Eliminacion de subtours\n",
        "for i in range(n_point):\n",
        "    for j in range(n_point):\n",
        "        if i != j and (i != 0 and j != 0):\n",
        "            problem += u[i] - u[j] <= n_point * (1 - x[i, j]) - 1\n",
        "\n",
        "# solve problem\n",
        "status = problem.solve()\n",
        "\n",
        "# output status, value of objective function\n",
        "status, pulp.LpStatus[status], pulp.value(problem.objective)"
      ],
      "metadata": {
        "colab": {
          "base_uri": "https://localhost:8080/"
        },
        "id": "_jUvbqr-WX0z",
        "outputId": "e3fd36e3-2ec6-4acc-da3d-b32833f43c80"
      },
      "execution_count": null,
      "outputs": [
        {
          "output_type": "execute_result",
          "data": {
            "text/plain": [
              "(1, 'Optimal', 8.713000000000001)"
            ]
          },
          "metadata": {},
          "execution_count": 11
        }
      ]
    },
    {
      "cell_type": "markdown",
      "source": [
        "## Experimento 4"
      ],
      "metadata": {
        "id": "pftnzVQTWZpv"
      }
    },
    {
      "cell_type": "code",
      "source": [
        "import pulp\n",
        "n_customer = 3\n",
        "n_point = n_customer + 1\n",
        "distances = pd.DataFrame(np.array([[0, 3.13, 2.56, 3.02],\n",
        "                                   [3.13, 0, 3.84,4.12],\n",
        "                                   [2.56, 3.84, 0, 3.34],\n",
        "                                   [3.02, 4.12, 3.34, 0]]))\n",
        "# Tipo de problema\n",
        "problem = pulp.LpProblem('tsp_mip', pulp.LpMinimize)\n",
        "\n",
        "# Variables\n",
        "x = pulp.LpVariable.dicts('x', ((i, j) for i in range(n_point) for j in range(n_point)), lowBound=0, upBound=1, cat='Binary')\n",
        "# Variable artificial para eliminacion de subtours\n",
        "u = pulp.LpVariable.dicts('u', (i for i in range(n_point)), lowBound=1, upBound=n_point, cat='Integer')\n",
        "\n",
        "# Funcion objetivo\n",
        "problem += pulp.lpSum(distances[i][j] * x[i, j] for i in range(n_point) for j in range(n_point))\n",
        "\n",
        "# Restricciones\n",
        "for i in range(n_point):\n",
        "    problem += x[i, i] == 0\n",
        "\n",
        "for i in range(n_point):\n",
        "    problem += pulp.lpSum(x[i, j] for j in range(n_point)) == 1\n",
        "    problem += pulp.lpSum(x[j, i] for j in range(n_point)) == 1\n",
        "\n",
        "# Eliminacion de subtours\n",
        "for i in range(n_point):\n",
        "    for j in range(n_point):\n",
        "        if i != j and (i != 0 and j != 0):\n",
        "            problem += u[i] - u[j] <= n_point * (1 - x[i, j]) - 1\n",
        "\n",
        "# solve problem\n",
        "status = problem.solve()\n",
        "\n",
        "# output status, value of objective function\n",
        "status, pulp.LpStatus[status], pulp.value(problem.objective)"
      ],
      "metadata": {
        "colab": {
          "base_uri": "https://localhost:8080/"
        },
        "id": "xXY2wimeYu4v",
        "outputId": "5491863a-39dd-4a60-b9f4-9dfb676b8cec"
      },
      "execution_count": null,
      "outputs": [
        {
          "output_type": "execute_result",
          "data": {
            "text/plain": [
              "(1, 'Optimal', 13.15)"
            ]
          },
          "metadata": {},
          "execution_count": 27
        }
      ]
    },
    {
      "cell_type": "markdown",
      "source": [
        "## Experimento 5"
      ],
      "metadata": {
        "id": "brASPo5fWbtG"
      }
    },
    {
      "cell_type": "code",
      "source": [
        "import pulp\n",
        "n_customer = 3\n",
        "n_point = n_customer + 1\n",
        "distances = pd.DataFrame(np.array([[0, 2.718, 2.576, 3.29],\n",
        "                                   [2.718, 0, 2.764, 2.594],\n",
        "                                   [2.576, 2.764, 0, 3.34],\n",
        "                                   [3.29, 2.594, 3.34, 0]]))\n",
        "# Tipo de problema\n",
        "problem = pulp.LpProblem('tsp_mip', pulp.LpMinimize)\n",
        "\n",
        "# Variables\n",
        "x = pulp.LpVariable.dicts('x', ((i, j) for i in range(n_point) for j in range(n_point)), lowBound=0, upBound=1, cat='Binary')\n",
        "# Variable artificial para eliminacion de subtours\n",
        "u = pulp.LpVariable.dicts('u', (i for i in range(n_point)), lowBound=1, upBound=n_point, cat='Integer')\n",
        "\n",
        "# Funcion objetivo\n",
        "problem += pulp.lpSum(distances[i][j] * x[i, j] for i in range(n_point) for j in range(n_point))\n",
        "\n",
        "# Restricciones\n",
        "for i in range(n_point):\n",
        "    problem += x[i, i] == 0\n",
        "\n",
        "for i in range(n_point):\n",
        "    problem += pulp.lpSum(x[i, j] for j in range(n_point)) == 1\n",
        "    problem += pulp.lpSum(x[j, i] for j in range(n_point)) == 1\n",
        "\n",
        "# Eliminacion de subtours\n",
        "for i in range(n_point):\n",
        "    for j in range(n_point):\n",
        "        if i != j and (i != 0 and j != 0):\n",
        "            problem += u[i] - u[j] <= n_point * (1 - x[i, j]) - 1\n",
        "\n",
        "# solve problem\n",
        "status = problem.solve()\n",
        "\n",
        "# output status, value of objective function\n",
        "status, pulp.LpStatus[status], pulp.value(problem.objective)"
      ],
      "metadata": {
        "colab": {
          "base_uri": "https://localhost:8080/"
        },
        "id": "E12__v9mWYM6",
        "outputId": "a323e1e6-5d63-4279-9b45-edd751f212fa"
      },
      "execution_count": null,
      "outputs": [
        {
          "output_type": "execute_result",
          "data": {
            "text/plain": [
              "(1, 'Optimal', 11.224)"
            ]
          },
          "metadata": {},
          "execution_count": 29
        }
      ]
    },
    {
      "cell_type": "markdown",
      "source": [
        "## Experimento 6"
      ],
      "metadata": {
        "id": "PhURa7J2WeLV"
      }
    },
    {
      "cell_type": "code",
      "source": [
        "import pulp\n",
        "n_customer = 4\n",
        "n_point = n_customer + 1\n",
        "distances = pd.DataFrame(np.array([[0, 3.34, 2.443, 3.13, 3.02],\n",
        "                                   [3.34, 0, 2.916, 4.41, 2.306],\n",
        "                                   [2.443, 2.916, 0, 3.49, 2.594],\n",
        "                                   [3.13, 4.41, 3.49, 0, 4.12],\n",
        "                                   [3.02, 2.306, 2.594, 4.12, 0]]))\n",
        "# Tipo de problema\n",
        "problem = pulp.LpProblem('tsp_mip', pulp.LpMinimize)\n",
        "\n",
        "# Variables\n",
        "x = pulp.LpVariable.dicts('x', ((i, j) for i in range(n_point) for j in range(n_point)), lowBound=0, upBound=1, cat='Binary')\n",
        "# Variable artificial para eliminacion de subtours\n",
        "u = pulp.LpVariable.dicts('u', (i for i in range(n_point)), lowBound=1, upBound=n_point, cat='Integer')\n",
        "\n",
        "# Funcion objetivo\n",
        "problem += pulp.lpSum(distances[i][j] * x[i, j] for i in range(n_point) for j in range(n_point))\n",
        "\n",
        "# Restricciones\n",
        "for i in range(n_point):\n",
        "    problem += x[i, i] == 0\n",
        "\n",
        "for i in range(n_point):\n",
        "    problem += pulp.lpSum(x[i, j] for j in range(n_point)) == 1\n",
        "    problem += pulp.lpSum(x[j, i] for j in range(n_point)) == 1\n",
        "\n",
        "# Eliminacion de subtours\n",
        "for i in range(n_point):\n",
        "    for j in range(n_point):\n",
        "        if i != j and (i != 0 and j != 0):\n",
        "            problem += u[i] - u[j] <= n_point * (1 - x[i, j]) - 1\n",
        "\n",
        "# solve problem\n",
        "status = problem.solve()\n",
        "\n",
        "# output status, value of objective function\n",
        "status, pulp.LpStatus[status], pulp.value(problem.objective)"
      ],
      "metadata": {
        "colab": {
          "base_uri": "https://localhost:8080/"
        },
        "id": "KRWccJVQWY1B",
        "outputId": "f535f91d-d729-410c-ca79-32368b8f8be2"
      },
      "execution_count": null,
      "outputs": [
        {
          "output_type": "execute_result",
          "data": {
            "text/plain": [
              "(1, 'Optimal', 14.859999999999998)"
            ]
          },
          "metadata": {},
          "execution_count": 30
        }
      ]
    },
    {
      "cell_type": "markdown",
      "source": [
        "## Experimento 7"
      ],
      "metadata": {
        "id": "o7QDwYKKWgEw"
      }
    },
    {
      "cell_type": "code",
      "source": [
        "import pulp\n",
        "n_customer = 5\n",
        "n_point = n_customer + 1\n",
        "distances = pd.DataFrame(np.array([[0, 3.61, 2.718, 3.64, 2.576, 3.29],\n",
        "                                   [3.61, 0, 2.916, 4.41, 3.65, 2.306],\n",
        "                                   [2.718, 2.916, 0, 3.49, 2.764, 2.594],\n",
        "                                   [3.64, 4.41, 3.49, 0, 3.84, 4.12],\n",
        "                                   [2.576, 3.65, 2.764, 3.84, 0, 3.34],\n",
        "                                   [3.29, 2.306, 2.594, 4.12, 3.34, 0]]))\n",
        "# Tipo de problema\n",
        "problem = pulp.LpProblem('tsp_mip', pulp.LpMinimize)\n",
        "\n",
        "# Variables\n",
        "x = pulp.LpVariable.dicts('x', ((i, j) for i in range(n_point) for j in range(n_point)), lowBound=0, upBound=1, cat='Binary')\n",
        "# Variable artificial para eliminacion de subtours\n",
        "u = pulp.LpVariable.dicts('u', (i for i in range(n_point)), lowBound=1, upBound=n_point, cat='Integer')\n",
        "\n",
        "# Funcion objetivo\n",
        "problem += pulp.lpSum(distances[i][j] * x[i, j] for i in range(n_point) for j in range(n_point))\n",
        "\n",
        "# Restricciones\n",
        "for i in range(n_point):\n",
        "    problem += x[i, i] == 0\n",
        "\n",
        "for i in range(n_point):\n",
        "    problem += pulp.lpSum(x[i, j] for j in range(n_point)) == 1\n",
        "    problem += pulp.lpSum(x[j, i] for j in range(n_point)) == 1\n",
        "\n",
        "# Eliminacion de subtours\n",
        "for i in range(n_point):\n",
        "    for j in range(n_point):\n",
        "        if i != j and (i != 0 and j != 0):\n",
        "            problem += u[i] - u[j] <= n_point * (1 - x[i, j]) - 1\n",
        "\n",
        "# solve problem\n",
        "status = problem.solve()\n",
        "\n",
        "# output status, value of objective function\n",
        "status, pulp.LpStatus[status], pulp.value(problem.objective)"
      ],
      "metadata": {
        "colab": {
          "base_uri": "https://localhost:8080/"
        },
        "id": "oJJY4qf-WiV1",
        "outputId": "4a6279a0-0b14-4648-ea8b-ef6ce3a230b9"
      },
      "execution_count": null,
      "outputs": [
        {
          "output_type": "execute_result",
          "data": {
            "text/plain": [
              "(1, 'Optimal', 18.256)"
            ]
          },
          "metadata": {},
          "execution_count": 31
        }
      ]
    },
    {
      "cell_type": "markdown",
      "source": [
        "## Experimento 8"
      ],
      "metadata": {
        "id": "xdiCNITxWit1"
      }
    },
    {
      "cell_type": "code",
      "source": [
        "import pulp\n",
        "n_customer = 5\n",
        "n_point = n_customer + 1\n",
        "distances = pd.DataFrame(np.array([[0, 3.34, 2.443, 3.13, 2.481, 3.02],\n",
        "                                   [3.34, 0, 2.916, 4.41, 3.14, 2.306],\n",
        "                                   [2.443, 2.916, 0, 3.49, 2.845, 2.594],\n",
        "                                   [3.13, 4.41, 3.49, 0, 3.19, 4.12],\n",
        "                                   [2.481, 3.14, 2.845, 3.19, 0, 2.825],\n",
        "                                   [3.02, 2.306, 2.594, 4.12, 3.825, 0]]))\n",
        "# Tipo de problema\n",
        "problem = pulp.LpProblem('tsp_mip', pulp.LpMinimize)\n",
        "\n",
        "# Variables\n",
        "x = pulp.LpVariable.dicts('x', ((i, j) for i in range(n_point) for j in range(n_point)), lowBound=0, upBound=1, cat='Binary')\n",
        "# Variable artificial para eliminacion de subtours\n",
        "u = pulp.LpVariable.dicts('u', (i for i in range(n_point)), lowBound=1, upBound=n_point, cat='Integer')\n",
        "\n",
        "# Funcion objetivo\n",
        "problem += pulp.lpSum(distances[i][j] * x[i, j] for i in range(n_point) for j in range(n_point))\n",
        "\n",
        "# Restricciones\n",
        "for i in range(n_point):\n",
        "    problem += x[i, i] == 0\n",
        "\n",
        "for i in range(n_point):\n",
        "    problem += pulp.lpSum(x[i, j] for j in range(n_point)) == 1\n",
        "    problem += pulp.lpSum(x[j, i] for j in range(n_point)) == 1\n",
        "\n",
        "# Eliminacion de subtours\n",
        "for i in range(n_point):\n",
        "    for j in range(n_point):\n",
        "        if i != j and (i != 0 and j != 0):\n",
        "            problem += u[i] - u[j] <= n_point * (1 - x[i, j]) - 1\n",
        "\n",
        "# solve problem\n",
        "status = problem.solve()\n",
        "\n",
        "# output status, value of objective function\n",
        "status, pulp.LpStatus[status], pulp.value(problem.objective)"
      ],
      "metadata": {
        "colab": {
          "base_uri": "https://localhost:8080/"
        },
        "id": "zn3l4A3PWj2_",
        "outputId": "c8c4c3f9-4fa0-4cb3-874d-e46e105f5bd2"
      },
      "execution_count": null,
      "outputs": [
        {
          "output_type": "execute_result",
          "data": {
            "text/plain": [
              "(1, 'Optimal', 16.803)"
            ]
          },
          "metadata": {},
          "execution_count": 12
        }
      ]
    },
    {
      "cell_type": "markdown",
      "source": [
        "## Experimento 9"
      ],
      "metadata": {
        "id": "m2B1MuLHWkTV"
      }
    },
    {
      "cell_type": "code",
      "source": [
        "import pulp\n",
        "n_customer = 6\n",
        "n_point = n_customer + 1\n",
        "distances = pd.DataFrame(np.array([\n",
        "    [0, 3.61, 3.05, 2.718, 3.64, 2.576, 3.29],\n",
        "    [3.61, 0, 3.19, 2.916, 4.41, 3.65, 2.306],\n",
        "    [3.05, 3.19, 0, 2.96, 3.23, 3.29, 2.879],\n",
        "    [2.718, 2.916, 2.96, 0, 3.49, 2.764, 2.594],\n",
        "    [3.64, 4.41, 3.23, 3.49, 0, 3.84, 4.12],\n",
        "    [2.576, 3.65, 3.29, 2.764, 3.84, 0, 3.34],\n",
        "    [3.29, 2.306, 2.879, 2.594, 4.12, 3.34, 0]\n",
        "]))\n",
        "# Tipo de problema\n",
        "problem = pulp.LpProblem('tsp_mip', pulp.LpMinimize)\n",
        "\n",
        "# Variables\n",
        "x = pulp.LpVariable.dicts('x', ((i, j) for i in range(n_point) for j in range(n_point)), lowBound=0, upBound=1, cat='Binary')\n",
        "# Variable artificial para eliminacion de subtours\n",
        "u = pulp.LpVariable.dicts('u', (i for i in range(n_point)), lowBound=1, upBound=n_point, cat='Integer')\n",
        "\n",
        "# Funcion objetivo\n",
        "problem += pulp.lpSum(distances[i][j] * x[i, j] for i in range(n_point) for j in range(n_point))\n",
        "\n",
        "# Restricciones\n",
        "for i in range(n_point):\n",
        "    problem += x[i, i] == 0\n",
        "\n",
        "for i in range(n_point):\n",
        "    problem += pulp.lpSum(x[i, j] for j in range(n_point)) == 1\n",
        "    problem += pulp.lpSum(x[j, i] for j in range(n_point)) == 1\n",
        "\n",
        "# Eliminacion de subtours\n",
        "for i in range(n_point):\n",
        "    for j in range(n_point):\n",
        "        if i != j and (i != 0 and j != 0):\n",
        "            problem += u[i] - u[j] <= n_point * (1 - x[i, j]) - 1\n",
        "\n",
        "# solve problem\n",
        "status = problem.solve()\n",
        "\n",
        "# output status, value of objective function\n",
        "status, pulp.LpStatus[status], pulp.value(problem.objective)"
      ],
      "metadata": {
        "colab": {
          "base_uri": "https://localhost:8080/"
        },
        "id": "o-84cFl72e7G",
        "outputId": "5159806f-7b17-46c6-dfb6-9d3e57d51cda"
      },
      "execution_count": null,
      "outputs": [
        {
          "output_type": "execute_result",
          "data": {
            "text/plain": [
              "(1, 'Optimal', 20.3)"
            ]
          },
          "metadata": {},
          "execution_count": 12
        }
      ]
    },
    {
      "cell_type": "markdown",
      "source": [
        "## Experimento 10"
      ],
      "metadata": {
        "id": "h63rgBEBWl6V"
      }
    },
    {
      "cell_type": "code",
      "source": [
        "import pulp\n",
        "n_customer = 6\n",
        "n_point = n_customer + 1\n",
        "distances = pd.DataFrame(np.array([\n",
        "    [0, 2.536, 3.34, 2.443, 3.13, 2.481, 3.02],\n",
        "    [2.536, 0, 3.61, 2.718, 3.64, 2.994, 3.29],\n",
        "    [3.34, 3.61, 0, 2.916, 4.41, 3.14, 2.306],\n",
        "    [2.443, 2.718, 2.916, 0, 3.49, 2.845, 2.594],\n",
        "    [3.13, 3.64, 4.41, 3.49, 0, 3.19, 4.12],\n",
        "    [2.481, 2.994, 3.14, 2.845, 3.19, 0, 2.825],\n",
        "    [3.02, 3.29, 2.306, 2.594, 4.12, 2.825, 0]\n",
        "]))\n",
        "# Tipo de problema\n",
        "problem = pulp.LpProblem('tsp_mip', pulp.LpMinimize)\n",
        "\n",
        "# Variables\n",
        "x = pulp.LpVariable.dicts('x', ((i, j) for i in range(n_point) for j in range(n_point)), lowBound=0, upBound=1, cat='Binary')\n",
        "# Variable artificial para eliminacion de subtours\n",
        "u = pulp.LpVariable.dicts('u', (i for i in range(n_point)), lowBound=1, upBound=n_point, cat='Integer')\n",
        "\n",
        "# Funcion objetivo\n",
        "problem += pulp.lpSum(distances[i][j] * x[i, j] for i in range(n_point) for j in range(n_point))\n",
        "\n",
        "# Restricciones\n",
        "for i in range(n_point):\n",
        "    problem += x[i, i] == 0\n",
        "\n",
        "for i in range(n_point):\n",
        "    problem += pulp.lpSum(x[i, j] for j in range(n_point)) == 1\n",
        "    problem += pulp.lpSum(x[j, i] for j in range(n_point)) == 1\n",
        "\n",
        "# Eliminacion de subtours\n",
        "for i in range(n_point):\n",
        "    for j in range(n_point):\n",
        "        if i != j and (i != 0 and j != 0):\n",
        "            problem += u[i] - u[j] <= n_point * (1 - x[i, j]) - 1\n",
        "\n",
        "# solve problem\n",
        "status = problem.solve()\n",
        "\n",
        "# output status, value of objective function\n",
        "status, pulp.LpStatus[status], pulp.value(problem.objective)"
      ],
      "metadata": {
        "colab": {
          "base_uri": "https://localhost:8080/"
        },
        "id": "0OhjghSO3ryp",
        "outputId": "957b107a-a816-4475-84eb-517b0e59bc70"
      },
      "execution_count": null,
      "outputs": [
        {
          "output_type": "execute_result",
          "data": {
            "text/plain": [
              "(1, 'Optimal', 19.614)"
            ]
          },
          "metadata": {},
          "execution_count": 13
        }
      ]
    },
    {
      "cell_type": "markdown",
      "source": [
        "## Experimento 11"
      ],
      "metadata": {
        "id": "MVFnCpo438-p"
      }
    },
    {
      "cell_type": "code",
      "source": [
        "import pulp\n",
        "n_customer = 7\n",
        "n_point = n_customer + 1\n",
        "distances = pd.DataFrame(np.array([\n",
        "  [0, 3.34, 2.536, 2.443, 3.13, 2.56, 2.481, 3.02],\n",
        "  [3.34, 0, 3.19, 2.916, 4.41, 3.65, 3.14, 2.306],\n",
        "  [2.536, 3.19, 0, 2.96, 3.23, 3.29, 2.059, 2.879],\n",
        "  [2.443, 2.916, 2.96, 0, 3.49, 2.764, 2.845, 2.594],\n",
        "  [3.13, 4.41, 3.23, 3.49, 0, 3.84, 3.19, 4.12],\n",
        "  [2.56, 3.65, 3.29, 2.764, 3.84, 0, 3.23, 3.34],\n",
        "  [2.481, 3.14, 2.059, 2.845, 3.19, 3.23, 0, 2.825],\n",
        "  [3.02, 2.306, 2.879, 2.594, 4.12, 3.34, 2.825, 0]\n",
        "]\n",
        "))\n",
        "# Tipo de problema\n",
        "problem = pulp.LpProblem('tsp_mip', pulp.LpMinimize)\n",
        "\n",
        "# Variables\n",
        "x = pulp.LpVariable.dicts('x', ((i, j) for i in range(n_point) for j in range(n_point)), lowBound=0, upBound=1, cat='Binary')\n",
        "# Variable artificial para eliminacion de subtours\n",
        "u = pulp.LpVariable.dicts('u', (i for i in range(n_point)), lowBound=1, upBound=n_point, cat='Integer')\n",
        "\n",
        "# Funcion objetivo\n",
        "problem += pulp.lpSum(distances[i][j] * x[i, j] for i in range(n_point) for j in range(n_point))\n",
        "\n",
        "# Restricciones\n",
        "for i in range(n_point):\n",
        "    problem += x[i, i] == 0\n",
        "\n",
        "for i in range(n_point):\n",
        "    problem += pulp.lpSum(x[i, j] for j in range(n_point)) == 1\n",
        "    problem += pulp.lpSum(x[j, i] for j in range(n_point)) == 1\n",
        "\n",
        "# Eliminacion de subtours\n",
        "for i in range(n_point):\n",
        "    for j in range(n_point):\n",
        "        if i != j and (i != 0 and j != 0):\n",
        "            problem += u[i] - u[j] <= n_point * (1 - x[i, j]) - 1\n",
        "\n",
        "# solve problem\n",
        "status = problem.solve()\n",
        "\n",
        "# output status, value of objective function\n",
        "status, pulp.LpStatus[status], pulp.value(problem.objective)"
      ],
      "metadata": {
        "colab": {
          "base_uri": "https://localhost:8080/"
        },
        "id": "-HpQLPaA4Dgu",
        "outputId": "96e33596-d7a3-488a-9491-1ef03e64244a"
      },
      "execution_count": null,
      "outputs": [
        {
          "output_type": "execute_result",
          "data": {
            "text/plain": [
              "(1, 'Optimal', 21.783)"
            ]
          },
          "metadata": {},
          "execution_count": 14
        }
      ]
    },
    {
      "cell_type": "markdown",
      "source": [
        "## Experimento 12"
      ],
      "metadata": {
        "id": "Fdr59TB93-I9"
      }
    },
    {
      "cell_type": "code",
      "source": [
        "import pulp\n",
        "n_customer = 7\n",
        "n_point = n_customer + 1\n",
        "distances = pd.DataFrame(np.array([[0, 3.19, 2.916, 2.173, 4.41, 3.65, 3.14, 2.306],\n",
        "         [3.19, 0, 2.96, 3.48, 3.23, 3.29, 2.059, 2.879],\n",
        "         [2.916, 2.96, 0, 3.19, 3.49, 2.764, 2.845, 2.594],\n",
        "         [2.173, 3.48, 3.19, 0, 4.67, 3.92, 3.4, 2.53],\n",
        "         [4.41, 3.23, 3.49, 4.67, 0, 3.84, 3.19, 4.12],\n",
        "         [3.65, 3.29, 2.764, 3.92, 3.84, 0, 3.23, 3.34],\n",
        "         [3.14, 2.059, 2.845, 3.4, 3.19, 3.23, 0, 2.825],\n",
        "         [2.306, 2.879, 2.594, 2.53, 4.12, 3.34, 2.825, 0]]\n",
        "))\n",
        "# Tipo de problema\n",
        "problem = pulp.LpProblem('tsp_mip', pulp.LpMinimize)\n",
        "\n",
        "# Variables\n",
        "x = pulp.LpVariable.dicts('x', ((i, j) for i in range(n_point) for j in range(n_point)), lowBound=0, upBound=1, cat='Binary')\n",
        "# Variable artificial para eliminacion de subtours\n",
        "u = pulp.LpVariable.dicts('u', (i for i in range(n_point)), lowBound=1, upBound=n_point, cat='Integer')\n",
        "\n",
        "# Funcion objetivo\n",
        "problem += pulp.lpSum(distances[i][j] * x[i, j] for i in range(n_point) for j in range(n_point))\n",
        "\n",
        "# Restricciones\n",
        "for i in range(n_point):\n",
        "    problem += x[i, i] == 0\n",
        "\n",
        "for i in range(n_point):\n",
        "    problem += pulp.lpSum(x[i, j] for j in range(n_point)) == 1\n",
        "    problem += pulp.lpSum(x[j, i] for j in range(n_point)) == 1\n",
        "\n",
        "# Eliminacion de subtours\n",
        "for i in range(n_point):\n",
        "    for j in range(n_point):\n",
        "        if i != j and (i != 0 and j != 0):\n",
        "            problem += u[i] - u[j] <= n_point * (1 - x[i, j]) - 1\n",
        "\n",
        "# solve problem\n",
        "status = problem.solve()\n",
        "\n",
        "# output status, value of objective function\n",
        "status, pulp.LpStatus[status], pulp.value(problem.objective)"
      ],
      "metadata": {
        "colab": {
          "base_uri": "https://localhost:8080/"
        },
        "id": "t4RVM1bK4JYp",
        "outputId": "cdd9f767-c4f5-4be1-bc02-156ba59ee5b0"
      },
      "execution_count": null,
      "outputs": [
        {
          "output_type": "execute_result",
          "data": {
            "text/plain": [
              "(1, 'Optimal', 22.330000000000002)"
            ]
          },
          "metadata": {},
          "execution_count": 15
        }
      ]
    },
    {
      "cell_type": "markdown",
      "source": [
        "## Experimento 13"
      ],
      "metadata": {
        "id": "bctkWWsM3_KF"
      }
    },
    {
      "cell_type": "code",
      "source": [
        "import pulp\n",
        "n_customer = 8\n",
        "n_point = n_customer + 1\n",
        "distances = pd.DataFrame(np.array([\n",
        "    [0, 2.536, 3.34, 2.536, 3.5, 3.13, 2.56, 2.481, 3.02],\n",
        "    [2.536, 0, 3.61, 3.05, 3.89, 3.64, 2.576, 2.994, 3.29],\n",
        "    [3.34, 3.61, 0, 3.19, 2.173, 4.41, 3.65, 3.14, 2.306],\n",
        "    [2.536, 3.05, 3.19, 0, 3.48, 3.23, 3.29, 2.059, 2.879],\n",
        "    [3.5, 3.89, 2.173, 3.48, 0, 4.67, 3.92, 3.4, 2.53],\n",
        "    [3.13, 3.64, 4.41, 3.23, 4.67, 0, 3.84, 3.19, 4.12],\n",
        "    [2.56, 2.576, 3.65, 3.29, 3.92, 3.84, 0, 3.23, 3.34],\n",
        "    [2.481, 2.994, 3.14, 2.059, 3.4, 3.19, 3.23, 0, 2.825],\n",
        "    [3.02, 3.29, 2.306, 2.879, 2.53, 4.12, 3.34, 2.825, 0]\n",
        "]\n",
        "))\n",
        "# Tipo de problema\n",
        "problem = pulp.LpProblem('tsp_mip', pulp.LpMinimize)\n",
        "\n",
        "# Variables\n",
        "x = pulp.LpVariable.dicts('x', ((i, j) for i in range(n_point) for j in range(n_point)), lowBound=0, upBound=1, cat='Binary')\n",
        "# Variable artificial para eliminacion de subtours\n",
        "u = pulp.LpVariable.dicts('u', (i for i in range(n_point)), lowBound=1, upBound=n_point, cat='Integer')\n",
        "\n",
        "# Funcion objetivo\n",
        "problem += pulp.lpSum(distances[i][j] * x[i, j] for i in range(n_point) for j in range(n_point))\n",
        "\n",
        "# Restricciones\n",
        "for i in range(n_point):\n",
        "    problem += x[i, i] == 0\n",
        "\n",
        "for i in range(n_point):\n",
        "    problem += pulp.lpSum(x[i, j] for j in range(n_point)) == 1\n",
        "    problem += pulp.lpSum(x[j, i] for j in range(n_point)) == 1\n",
        "\n",
        "# Eliminacion de subtours\n",
        "for i in range(n_point):\n",
        "    for j in range(n_point):\n",
        "        if i != j and (i != 0 and j != 0):\n",
        "            problem += u[i] - u[j] <= n_point * (1 - x[i, j]) - 1\n",
        "\n",
        "# solve problem\n",
        "status = problem.solve()\n",
        "\n",
        "# output status, value of objective function\n",
        "status, pulp.LpStatus[status], pulp.value(problem.objective)"
      ],
      "metadata": {
        "colab": {
          "base_uri": "https://localhost:8080/"
        },
        "id": "xQtBu7TO4KFC",
        "outputId": "7f42155f-e22b-4804-e1d1-fac58b8708d2"
      },
      "execution_count": null,
      "outputs": [
        {
          "output_type": "execute_result",
          "data": {
            "text/plain": [
              "(1, 'Optimal', 24.688000000000002)"
            ]
          },
          "metadata": {},
          "execution_count": 16
        }
      ]
    },
    {
      "cell_type": "markdown",
      "source": [
        "## Experimento 14"
      ],
      "metadata": {
        "id": "DnoeOajF4AU8"
      }
    },
    {
      "cell_type": "code",
      "source": [
        "import pulp\n",
        "n_customer = 8\n",
        "n_point = n_customer + 1\n",
        "distances = pd.DataFrame(np.array( [\n",
        "    [0, 2.536, 2.536, 2.443, 3.5, 3.13, 2.56, 2.481, 3.02],\n",
        "    [2.536, 0, 3.05, 2.718, 3.89, 3.64, 2.576, 2.994, 3.29],\n",
        "    [2.536, 3.05, 0, 2.96, 3.48, 3.23, 3.29, 2.059, 2.879],\n",
        "    [2.443, 2.718, 2.96, 0, 3.19, 3.49, 2.764, 2.845, 2.594],\n",
        "    [3.5, 3.89, 3.48, 3.19, 0, 4.67, 3.92, 3.4, 2.53],\n",
        "    [3.13, 3.64, 3.23, 3.49, 4.67, 0, 3.84, 3.19, 4.12],\n",
        "    [2.56, 2.576, 3.29, 2.764, 3.92, 3.84, 0, 3.23, 3.34],\n",
        "    [2.481, 2.994, 2.059, 2.845, 3.4, 3.19, 3.23, 0, 2.825],\n",
        "    [3.02, 3.29, 2.879, 2.594, 2.53, 4.12, 3.34, 2.825, 0]\n",
        "]\n",
        "))\n",
        "# Tipo de problema\n",
        "problem = pulp.LpProblem('tsp_mip', pulp.LpMinimize)\n",
        "\n",
        "# Variables\n",
        "x = pulp.LpVariable.dicts('x', ((i, j) for i in range(n_point) for j in range(n_point)), lowBound=0, upBound=1, cat='Binary')\n",
        "# Variable artificial para eliminacion de subtours\n",
        "u = pulp.LpVariable.dicts('u', (i for i in range(n_point)), lowBound=1, upBound=n_point, cat='Integer')\n",
        "\n",
        "# Funcion objetivo\n",
        "problem += pulp.lpSum(distances[i][j] * x[i, j] for i in range(n_point) for j in range(n_point))\n",
        "\n",
        "# Restricciones\n",
        "for i in range(n_point):\n",
        "    problem += x[i, i] == 0\n",
        "\n",
        "for i in range(n_point):\n",
        "    problem += pulp.lpSum(x[i, j] for j in range(n_point)) == 1\n",
        "    problem += pulp.lpSum(x[j, i] for j in range(n_point)) == 1\n",
        "\n",
        "# Eliminacion de subtours\n",
        "for i in range(n_point):\n",
        "    for j in range(n_point):\n",
        "        if i != j and (i != 0 and j != 0):\n",
        "            problem += u[i] - u[j] <= n_point * (1 - x[i, j]) - 1\n",
        "\n",
        "# solve problem\n",
        "status = problem.solve()\n",
        "\n",
        "# output status, value of objective function\n",
        "status, pulp.LpStatus[status], pulp.value(problem.objective)"
      ],
      "metadata": {
        "colab": {
          "base_uri": "https://localhost:8080/"
        },
        "id": "KlKs4xIu4MD_",
        "outputId": "ca6507d5-aa58-4a67-ce46-0f96ae68f01e"
      },
      "execution_count": null,
      "outputs": [
        {
          "output_type": "execute_result",
          "data": {
            "text/plain": [
              "(1, 'Optimal', 24.796999999999997)"
            ]
          },
          "metadata": {},
          "execution_count": 18
        }
      ]
    },
    {
      "cell_type": "markdown",
      "source": [
        "## Experimento 15"
      ],
      "metadata": {
        "id": "NM5xk3zO4BVb"
      }
    },
    {
      "cell_type": "code",
      "source": [
        "import pulp\n",
        "n_customer = 9\n",
        "n_point = n_customer + 1\n",
        "distances = pd.DataFrame(np.array([\n",
        "    [0, 2.536, 3.34, 2.536, 2.443, 3.5, 3.13, 2.56, 2.481, 3.02],\n",
        "    [2.536, 0, 3.61, 3.05, 2.718, 3.89, 3.64, 2.576, 2.994, 3.29],\n",
        "    [3.34, 3.61, 0, 3.19, 2.916, 2.173, 4.41, 3.65, 3.14, 2.306],\n",
        "    [2.536, 3.05, 3.19, 0, 2.96, 3.48, 3.23, 3.29, 2.059, 2.879],\n",
        "    [2.443, 2.718, 2.916, 2.96, 0, 3.19, 3.49, 2.764, 2.845, 2.594],\n",
        "    [3.5, 3.89, 2.173, 3.48, 3.19, 0, 4.67, 3.92, 3.4, 2.53],\n",
        "    [3.13, 3.64, 4.41, 3.23, 3.49, 4.67, 0, 3.84, 3.19, 4.12],\n",
        "    [2.56, 2.576, 3.65, 3.29, 2.764, 3.92, 3.84, 0, 3.23, 3.34],\n",
        "    [2.481, 2.994, 3.14, 2.059, 2.845, 3.4, 3.19, 3.23, 0, 2.825],\n",
        "    [3.02, 3.29, 2.306, 2.879, 2.594, 2.53, 4.12, 3.34, 2.825, 0]\n",
        "]\n",
        "))\n",
        "# Tipo de problema\n",
        "problem = pulp.LpProblem('tsp_mip', pulp.LpMinimize)\n",
        "\n",
        "# Variables\n",
        "x = pulp.LpVariable.dicts('x', ((i, j) for i in range(n_point) for j in range(n_point)), lowBound=0, upBound=1, cat='Binary')\n",
        "# Variable artificial para eliminacion de subtours\n",
        "u = pulp.LpVariable.dicts('u', (i for i in range(n_point)), lowBound=1, upBound=n_point, cat='Integer')\n",
        "\n",
        "# Funcion objetivo\n",
        "problem += pulp.lpSum(distances[i][j] * x[i, j] for i in range(n_point) for j in range(n_point))\n",
        "\n",
        "# Restricciones\n",
        "for i in range(n_point):\n",
        "    problem += x[i, i] == 0\n",
        "\n",
        "for i in range(n_point):\n",
        "    problem += pulp.lpSum(x[i, j] for j in range(n_point)) == 1\n",
        "    problem += pulp.lpSum(x[j, i] for j in range(n_point)) == 1\n",
        "\n",
        "# Eliminacion de subtours\n",
        "for i in range(n_point):\n",
        "    for j in range(n_point):\n",
        "        if i != j and (i != 0 and j != 0):\n",
        "            problem += u[i] - u[j] <= n_point * (1 - x[i, j]) - 1\n",
        "\n",
        "# solve problem\n",
        "status = problem.solve()\n",
        "\n",
        "# output status, value of objective function\n",
        "status, pulp.LpStatus[status], pulp.value(problem.objective)"
      ],
      "metadata": {
        "colab": {
          "base_uri": "https://localhost:8080/"
        },
        "id": "Uv4vze4n4NZk",
        "outputId": "886f2dac-da8e-46ad-d3b5-4752cb433ad4"
      },
      "execution_count": null,
      "outputs": [
        {
          "output_type": "execute_result",
          "data": {
            "text/plain": [
              "(1, 'Optimal', 26.709999999999997)"
            ]
          },
          "metadata": {},
          "execution_count": 19
        }
      ]
    },
    {
      "cell_type": "code",
      "source": [],
      "metadata": {
        "id": "qtvsosl56rgr"
      },
      "execution_count": null,
      "outputs": []
    }
  ]
}